{
  "nbformat": 4,
  "nbformat_minor": 0,
  "metadata": {
    "colab": {
      "name": "OptionalLab.ipynb",
      "provenance": [],
      "authorship_tag": "ABX9TyNx48B/cmEAvXHTGnJEFHfT",
      "include_colab_link": true
    },
    "kernelspec": {
      "name": "python3",
      "display_name": "Python 3"
    },
    "language_info": {
      "name": "python"
    }
  },
  "cells": [
    {
      "cell_type": "markdown",
      "metadata": {
        "id": "view-in-github",
        "colab_type": "text"
      },
      "source": [
        "<a href=\"https://colab.research.google.com/github/MuhammadJahanzaibTariq/ML/blob/main/LinearRegression/OptionalLab.ipynb\" target=\"_parent\"><img src=\"https://colab.research.google.com/assets/colab-badge.svg\" alt=\"Open In Colab\"/></a>"
      ]
    },
    {
      "cell_type": "markdown",
      "source": [
        "**Goals**<br>\n",
        "In this lab, you will:\n",
        "\n",
        "* automate the process of optimizing **w** and **b ** using gradient descent.\n",
        "\n",
        "**Tools**<br>\n",
        "In this lab, we will make use of:\n",
        "\n",
        "\n",
        "*  NumPy, a popular library for scientific computing\n",
        "*  Matplotlib, a popular library for plotting data\n"
      ],
      "metadata": {
        "id": "4NhwaDzjLloG"
      }
    },
    {
      "cell_type": "code",
      "execution_count": 17,
      "metadata": {
        "id": "UtKeDFsQLkqv"
      },
      "outputs": [],
      "source": [
        "import math, copy\n",
        "import numpy as np\n",
        "import matplotlib.pyplot as plt"
      ]
    },
    {
      "cell_type": "markdown",
      "source": [
        "<div data-mime-type=\"text/markdown\" class=\"jp-RenderedHTMLCommon jp-RenderedMarkdown jp-MarkdownOutput\">\n",
        "<p><a name=\"toc_40291_2\"></a></p>\n",
        "<h1 id=\"Problem-Statement\">Problem Statement</h1><p>Let's use the same two data points as before - a house with 1000 square feet sold for $500,000.</p>\n",
        "<table>\n",
        "<thead><tr>\n",
        "<th>Size (1000 sqft)</th>\n",
        "<th>Price (1000s of dollars)</th>\n",
        "</tr>\n",
        "</thead>\n",
        "<tbody>\n",
        "<tr>\n",
        "<td>1</td>\n",
        "<td>300</td>\n",
        "</tr>\n",
        "<tr>\n",
        "<td>2</td>\n",
        "<td>500</td>\n",
        "</tr>\n",
        "</tbody>\n",
        "</table>\n",
        "\n",
        "</div>"
      ],
      "metadata": {
        "id": "v_dWoKCyOZz-"
      }
    },
    {
      "cell_type": "code",
      "source": [
        "# Load our data set\n",
        "x_train = np.array([1.1,1.3,1.5,2.0,2.2,2.9,3.0 ,3.2,3.2 ,3.7,3.9,4.0 ,4.0 ,4.1,\n",
        "  4.5,4.9,5.1,5.3,5.9,6.0 ,6.8 ,7.1 ,7.9,8.2,8.7 ,9.0 ,9.5 , 9.6,\n",
        " 10.3 ,10.5])   #features\n",
        "y_train = np.array([39343. , 46205. , 37731.,  43525. , 39891. , 56642. , 60150. , 54445.,  64445.,\n",
        "  57189. , 63218. , 55794. , 56957. , 57081. , 61111. , 67938.,  66029. , 83088.,\n",
        "  81363. , 93940.  ,91738. , 98273., 101302., 113812. ,109431. ,105582. ,116969.,\n",
        " 112635. ,122391. ,121872.])   #target value\n"
      ],
      "metadata": {
        "id": "RxENQcMC-tbj"
      },
      "execution_count": 34,
      "outputs": []
    },
    {
      "cell_type": "markdown",
      "source": [
        "**Compute_Cost**<br>\n",
        "This was developed in the last lab. We'll need it again here."
      ],
      "metadata": {
        "id": "hKxrk16V-0pz"
      }
    },
    {
      "cell_type": "code",
      "source": [
        "#j(w,b)= 1/m submission(predicted-actualvalue)^2\n",
        "#Function to calculate the cost\n",
        "def compute_cost(x, y, w, b):\n",
        "   \n",
        "    m = x.shape[0] # shape return tuple(2,0) and m=2 \n",
        "    cost = 0\n",
        "    Ys=[]\n",
        "    \n",
        "    for i in range(m):#run loop for m times\n",
        "        f_wb = w * x[i] + b #calculate all point on predicted line\n",
        "        Ys.append(f_wb)\n",
        "        cost = cost + (f_wb - y[i])**2 # at same time caculate cost\n",
        "    total_cost = 1 / (2 * m) * cost #last cacukate avaerage J(w,b)\n",
        "    print(total_cost)\n",
        "    return (total_cost,Ys)"
      ],
      "metadata": {
        "id": "NMwz1ouW-x6w"
      },
      "execution_count": 72,
      "outputs": []
    },
    {
      "cell_type": "code",
      "source": [
        "# Plot a simple line chart without any feature\n"
      ],
      "metadata": {
        "id": "wWUtIIZ-DFKM"
      },
      "execution_count": null,
      "outputs": []
    },
    {
      "cell_type": "code",
      "source": [
        "# plt.scatter(x_train, y_train, color = 'red')\n",
        "# w=8000\n",
        "# b=29000\n",
        "# # #we caculate w and b and we draw a line and cost is zero\n",
        "# # #but Question here is how we are goin to find w and b to do that we use gradient descent \n",
        "# ypred=[]\n",
        "# val=compute_cost(x_train, y_train, w, b)\n",
        "# print(val)\n",
        "# ypred=val[1]\n",
        "# print(ypred)\n",
        "# print(val)\n",
        "\n",
        "# plt.plot(x_train, ypred)\n",
        "# plt.show()\n"
      ],
      "metadata": {
        "id": "Z-nb8zexEakd"
      },
      "execution_count": null,
      "outputs": []
    },
    {
      "cell_type": "markdown",
      "source": [
        "//CHECK REMAING FROM HERE\n",
        "https://github.com/quocviethere/Coursera-Machine-Learning-Specialization/blob/main/Supervised%20Machine%20Learning:%20Regression%20and%20Classification/W1/C1_W1_Lab05_Gradient_Descent_Soln.ipynb"
      ],
      "metadata": {
        "id": "CI1BcRSgP0z5"
      }
    },
    {
      "cell_type": "code",
      "source": [],
      "metadata": {
        "id": "eSWeqsBiP3fh"
      },
      "execution_count": null,
      "outputs": []
    }
  ]
}